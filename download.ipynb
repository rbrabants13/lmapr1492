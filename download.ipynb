{
 "cells": [
  {
   "cell_type": "code",
   "execution_count": 7,
   "id": "early-science",
   "metadata": {},
   "outputs": [],
   "source": [
    "from pymatgen.ext.matproj import MPRester\n",
    "from pymatgen.io.cif import CifWriter\n",
    "\n",
    "from pymatgen.apps.borg.hive import VaspToComputedEntryDrone\n",
    "from pymatgen.apps.borg.queen import BorgQueen\n",
    "from pymatgen.entries.compatibility import MaterialsProjectCompatibility\n",
    "from pymatgen.analysis.phase_diagram import PhaseDiagram, PDPlotter\n",
    "from jupyter_jsmol.pymatgen import quick_view\n",
    "#On va chercher les infos sur le MP avec notre clé API\n",
    "with MPRester(\"VTUv2zAwLlpXxhqy\") as m:\n",
    "    # On obtient la structure de l'élément depuis le MP\n",
    "    structure = m.get_structure_by_material_id(\"mp-570485\")\n",
    "    # On crée un CifWriter avec la structure obtenue\n",
    "    writer = CifWriter(structure)\n",
    "    # Et on crée le fichier CIF grâce au writer\n",
    "    writer.write_file('SrAlSiH.cif')"
   ]
  }
 ],
 "metadata": {
  "kernelspec": {
   "display_name": "Python 3",
   "language": "python",
   "name": "python3"
  },
  "language_info": {
   "codemirror_mode": {
    "name": "ipython",
    "version": 3
   },
   "file_extension": ".py",
   "mimetype": "text/x-python",
   "name": "python",
   "nbconvert_exporter": "python",
   "pygments_lexer": "ipython3",
   "version": "3.6.8"
  }
 },
 "nbformat": 4,
 "nbformat_minor": 5
}
