{
 "cells": [
  {
   "cell_type": "code",
   "execution_count": 18,
   "id": "accessible-justice",
   "metadata": {},
   "outputs": [],
   "source": [
    "from pymatgen.ext.matproj import MPRester\n",
    "from pymatgen.symmetry.analyzer import SpacegroupAnalyzer\n",
    "from pymatgen.core.lattice import Lattice\n",
    "\n",
    "# On va chercher le dossier avec notre clé MP \n",
    "with MPRester (\"VTUv2zAwLlpXxhqy\") as m:\n",
    "    \n",
    "    # On définit toutes les variables de base qui vont servir par après\n",
    "    structure = m.get_structure_by_material_id(\"mp-570485\")\n",
    "    PrimitiveStructure = SpacegroupAnalyzer(structure).get_primitive_standard_structure()\n",
    "    lattice = PrimitiveStructure.lattice \n",
    "    analyzer = SpacegroupAnalyzer(PrimitiveStructure) "
   ]
  },
  {
   "cell_type": "code",
   "execution_count": 19,
   "id": "criminal-thanksgiving",
   "metadata": {},
   "outputs": [],
   "source": [
    "# Les vecteurs du réseau direct\n",
    "matrice = lattice.matrix\n",
    "a = matrice[0,:] ; b = matrice[1,:] ; c = matrice[2,:]\n",
    "\n",
    "# Les vecteurs du réseau réciproque\n",
    "rmatrice = lattice.reciprocal_lattice.matrix\n",
    "ra = rmatrice[0,:] ; rb = rmatrice[1,:] ; rc = rmatrice[2,:]\n",
    "\n",
    "# Le type de maille\n",
    "maille = analyzer.get_lattice_type()\n",
    "\n",
    "# Le système cristallin\n",
    "systeme = analyzer.get_crystal_system()\n",
    "\n",
    "# Le groupe de symétrie ponctuel\n",
    "grSymPonc = analyzer.get_point_group_symbol()"
   ]
  },
  {
   "cell_type": "code",
   "execution_count": 20,
   "id": "married-purse",
   "metadata": {},
   "outputs": [
    {
     "name": "stdout",
     "output_type": "stream",
     "text": [
      "\n",
      " Les vecteurs de base du réseau direct :\n",
      " a =  [ 2.11469535 -3.6627598   0.        ] \n",
      " b =  [2.11469535 3.6627598  0.        ] \n",
      " c =  [0.       0.       4.964784]\n",
      "\n",
      " Les vecteurs de base du réseau réciproque :\n",
      " a* =  [ 1.48560058 -0.8577119   0.        ] \n",
      " b* =  [1.48560058 0.8577119  0.        ] \n",
      " c* =  [0.       0.       4.964784]\n",
      "\n",
      " Type de maille : hexagonal\n",
      "\n",
      " Groupe Cristallin : trigonal\n",
      "\n",
      " Groupe de symétrie ponctuel : 3m\n"
     ]
    }
   ],
   "source": [
    "#On print les données \n",
    "print(\"\\n Les vecteurs de base du réseau direct :\\n\", \"a = \",a,\"\\n b = \",b,\"\\n c = \",c) \n",
    "print(\"\\n Les vecteurs de base du réseau réciproque :\\n\", \"a* = \",ra,\"\\n b* = \",rb,\"\\n c* = \",c)\n",
    "print(\"\\n Type de maille :\",maille)\n",
    "print(\"\\n Groupe Cristallin :\",systeme)\n",
    "print(\"\\n Groupe de symétrie ponctuel :\",grSymPonc)\n"
   ]
  }
 ],
 "metadata": {
  "kernelspec": {
   "display_name": "Python 3",
   "language": "python",
   "name": "python3"
  },
  "language_info": {
   "codemirror_mode": {
    "name": "ipython",
    "version": 3
   },
   "file_extension": ".py",
   "mimetype": "text/x-python",
   "name": "python",
   "nbconvert_exporter": "python",
   "pygments_lexer": "ipython3",
   "version": "3.6.8"
  }
 },
 "nbformat": 4,
 "nbformat_minor": 5
}
