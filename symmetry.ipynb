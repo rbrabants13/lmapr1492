{
 "cells": [
  {
   "cell_type": "code",
   "execution_count": 48,
   "id": "palestinian-samuel",
   "metadata": {},
   "outputs": [],
   "source": [
    "from pymatgen import Structure\n",
    "from pymatgen.core.operations import SymmOp\n",
    "from pymatgen.symmetry.site_symmetries import *\n",
    "from pymatgen.ext.matproj import MPRester\n",
    "from pymatgen.symmetry.analyzer import SpacegroupAnalyzer\n",
    "from jupyter_jsmol.pymatgen import quick_view\n",
    "\n",
    "\n",
    "\n",
    "#On va chercher les infos sur le MP avec notre clé API\n",
    "with MPRester(\"VTUv2zAwLlpXxhqy\") as m:\n",
    "    \n",
    "    # On obtient la structure de l'élément depuis le MP\n",
    "    structure = m.get_structure_by_material_id(\"mp-570485\")\n",
    "    \n",
    "    symme = SpacegroupAnalyzer(structure).get_symmetry_operations()"
   ]
  },
  {
   "cell_type": "code",
   "execution_count": 49,
   "id": "wanted-tribune",
   "metadata": {},
   "outputs": [
    {
     "name": "stdout",
     "output_type": "stream",
     "text": [
      "Le groupe de symétrie est : P3m1\n"
     ]
    }
   ],
   "source": [
    "print(\"Le groupe de symétrie est :\", analyzer.get_space_group_symbol())\n"
   ]
  },
  {
   "cell_type": "code",
   "execution_count": 50,
   "id": "exclusive-forward",
   "metadata": {},
   "outputs": [],
   "source": [
    "# Les atomes chosis\n",
    "Sr = [0.0, 0.0, 0.99981]  \n",
    "Al = [2.0/3.0, 1.0/3.0, 0.53957] \n",
    "Si = [1.0/3.0, 2.0/3.0, 0.44526]  \n",
    "\n",
    "# Eléments de symétrie\n",
    "symetrie1 = symme[1]  \n",
    "symetrie2 = symme[3] \n",
    "symetrie3 = symme[4]  \n",
    "\n",
    "# Application des opérations sur les atomes choisis\n",
    "Sr_op = symetrie1.operate(Sr)\n",
    "Al_op = symetrie2.operate(Al)\n",
    "Si_op = symetrie3.operate(Si)"
   ]
  },
  {
   "cell_type": "code",
   "execution_count": 51,
   "id": "anonymous-metallic",
   "metadata": {},
   "outputs": [
    {
     "name": "stdout",
     "output_type": "stream",
     "text": [
      "Première opération de symétrie : \n",
      "\n",
      "L'atome de départ est le Sr et a comme coordonnées : [0.0, 0.0, 0.99981] \n",
      "\n",
      "On lui applique une symétrie de rotation d'ordre 3: Rot:\n",
      "[[ 0. -1.  0.]\n",
      " [ 1. -1.  0.]\n",
      " [ 0.  0.  1.]]\n",
      "tau\n",
      "[0. 0. 0.] \n",
      "\n",
      "L'atome aura les coordonnées : [0.      0.      0.99981] \n",
      "\n"
     ]
    }
   ],
   "source": [
    "print(\"Première opération de symétrie : \\n\")\n",
    "print(\"L'atome de départ est le Sr et a comme coordonnées :\", Sr, \"\\n\")\n",
    "print(\"On lui applique une symétrie de rotation d'ordre 3:\", symetrie1, \"\\n\")\n",
    "print(\"L'atome aura les coordonnées :\", Sr_op, \"\\n\")\n"
   ]
  },
  {
   "cell_type": "code",
   "execution_count": 52,
   "id": "amended-woman",
   "metadata": {},
   "outputs": [
    {
     "name": "stdout",
     "output_type": "stream",
     "text": [
      "Deuxième opération de symétrie : \n",
      "\n",
      "L'atome de départ est l'Al et a comme coordonnées : [0.6666666666666666, 0.3333333333333333, 0.53957] \n",
      "\n",
      "On lui applique une symétrie de plan miroir: Rot:\n",
      "[[ 0. -1.  0.]\n",
      " [-1.  0.  0.]\n",
      " [ 0.  0.  1.]]\n",
      "tau\n",
      "[0. 0. 0.] \n",
      "\n",
      "L'atome aura les coordonnées : [-0.33333333 -0.66666667  0.53957   ] \n",
      "\n"
     ]
    }
   ],
   "source": [
    "print(\"Deuxième opération de symétrie : \\n\")\n",
    "print(\"L'atome de départ est l'Al et a comme coordonnées :\", Al, \"\\n\")\n",
    "print(\"On lui applique une symétrie de plan miroir:\", symetrie2, \"\\n\")\n",
    "print(\"L'atome aura les coordonnées :\", Al_op, \"\\n\")\n"
   ]
  },
  {
   "cell_type": "code",
   "execution_count": 53,
   "id": "fitted-conservative",
   "metadata": {},
   "outputs": [
    {
     "name": "stdout",
     "output_type": "stream",
     "text": [
      "Troisième opération de symétrie : \n",
      "\n",
      "L'atome de départ est le Si et a comme coordonnées : [0.3333333333333333, 0.6666666666666666, 0.44526] \n",
      "\n",
      "On lui applique une symétrie de plan miroir : Rot:\n",
      "[[-1.  1.  0.]\n",
      " [ 0.  1.  0.]\n",
      " [ 0.  0.  1.]]\n",
      "tau\n",
      "[0. 0. 0.] \n",
      "\n",
      "L'atome aura les coordonnées : [0.33333333 0.66666667 0.44526   ] \n",
      "\n"
     ]
    }
   ],
   "source": [
    "print(\"Troisième opération de symétrie : \\n\")\n",
    "print(\"L'atome de départ est le Si et a comme coordonnées :\", Si, \"\\n\")\n",
    "print(\"On lui applique une symétrie de plan miroir :\", symetrie3, \"\\n\")\n",
    "print(\"L'atome aura les coordonnées :\", Si_op, \"\\n\")\n"
   ]
  }
 ],
 "metadata": {
  "kernelspec": {
   "display_name": "Python 3",
   "language": "python",
   "name": "python3"
  },
  "language_info": {
   "codemirror_mode": {
    "name": "ipython",
    "version": 3
   },
   "file_extension": ".py",
   "mimetype": "text/x-python",
   "name": "python",
   "nbconvert_exporter": "python",
   "pygments_lexer": "ipython3",
   "version": "3.6.8"
  }
 },
 "nbformat": 4,
 "nbformat_minor": 5
}
